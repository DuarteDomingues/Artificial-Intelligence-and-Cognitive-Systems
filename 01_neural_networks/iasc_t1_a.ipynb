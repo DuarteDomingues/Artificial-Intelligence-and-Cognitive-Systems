{
 "cells": [
  {
   "cell_type": "code",
   "execution_count": 1,
   "id": "7baaa238",
   "metadata": {},
   "outputs": [],
   "source": [
    "from sklearn.neural_network import MLPClassifier\n",
    "from sklearn.metrics import plot_confusion_matrix\n",
    "import numpy as np\n",
    "import matplotlib.pyplot as plt"
   ]
  },
  {
   "cell_type": "code",
   "execution_count": 2,
   "id": "26605540",
   "metadata": {},
   "outputs": [],
   "source": [
    "\n",
    "#binario\n",
    "X = np.array([0,0,0,1,1,0,1,1]).reshape(4,2)\n",
    "\n",
    "#bipolar\n",
    "Xbip = np.array([-1,-1,-1,1,1,-1,1,1]).reshape(4,2)\n",
    "\n",
    "#taxa de aprendizagem\n",
    "r_arr = np.array([0.05,0.25,0.5,1.,2.])\n",
    "\n",
    "#termo de momento\n",
    "alphas = np.array([0.0,0.5,1.])\n",
    "\n",
    "#y\n",
    "y = np.array([0,1,1,0]).reshape(4,)\n",
    "\n",
    "#y bipolar\n",
    "ybip = np.array([-1,1,1,-1]).reshape(4,)"
   ]
  },
  {
   "cell_type": "code",
   "execution_count": 19,
   "id": "b519bf50",
   "metadata": {},
   "outputs": [
    {
     "name": "stdout",
     "output_type": "stream",
     "text": [
      "[0 1 1 0]\n"
     ]
    }
   ],
   "source": [
    "print(y)"
   ]
  },
  {
   "cell_type": "code",
   "execution_count": 13,
   "id": "f6c83e4b",
   "metadata": {},
   "outputs": [
    {
     "name": "stdout",
     "output_type": "stream",
     "text": [
      "[[0 0]\n",
      " [0 1]\n",
      " [1 0]\n",
      " [1 1]]\n",
      "[[-1 -1]\n",
      " [-1  1]\n",
      " [ 1 -1]\n",
      " [ 1  1]]\n",
      "[0.05 0.25 0.5  1.   2.  ] taxas de aprendizagem\n",
      "[0.  0.5 1. ] termos de momento\n"
     ]
    }
   ],
   "source": [
    "print(X)\n",
    "print(Xbip)\n",
    "print(r_arr, \"taxas de aprendizagem\")\n",
    "print(alphas, \"termos de momento\")"
   ]
  },
  {
   "cell_type": "code",
   "execution_count": null,
   "id": "4323113d",
   "metadata": {},
   "outputs": [],
   "source": [
    "#descida de gradiente sgd\n",
    "\n",
    "model = MLPClassifier(\n",
    "    activation='relu', solver='sgd', learning_rate_init=r_arr, momentum=alphas, max_iter=10000, hidden_layer_sizes=(4,), shuffle=True)\n",
    "model.fit(X, ys)"
   ]
  },
  {
   "cell_type": "code",
   "execution_count": 9,
   "id": "eee230cd",
   "metadata": {},
   "outputs": [],
   "source": [
    "def run_model(X,y,activation_fun,r,alpha, max_iters, do_shuffle):\n",
    "    \n",
    "    min_loss = 10\n",
    "    while min_loss > .1:\n",
    "        \n",
    "        model = MLPClassifier(\n",
    "        activation= activation_fun, solver='sgd', learning_rate_init=r, tol=1e-4, momentum=alpha, hidden_layer_sizes=(8,), max_iter=max_iters, shuffle=do_shuffle)\n",
    "    \n",
    "        model.fit(X,y)\n",
    "        min_loss = np.array(model.loss_curve_).min()\n",
    "    \n",
    "    #confusion matrix\n",
    "    \n",
    "    print('Score: ', model.score(X, y))\n",
    "    print('number of iterations until convergence: ', model.n_iter_)\n",
    "    #print('Loss: ', lastLoss)\n",
    "    \n",
    "       #loss curves\n",
    "    loss_curves = model.loss_curve_\n",
    "    plt.plot(loss_curves)\n",
    "    plt.show()\n",
    "        \n",
    "    \n",
    "    "
   ]
  },
  {
   "cell_type": "code",
   "execution_count": 10,
   "id": "e9b58f8c",
   "metadata": {},
   "outputs": [
    {
     "name": "stdout",
     "output_type": "stream",
     "text": [
      "Score:  1.0\n",
      "number of iterations until convergence:  1927\n"
     ]
    },
    {
     "data": {
      "image/png": "[encoded data removed]",
      "text/plain": [
       "<Figure size 432x288 with 1 Axes>"
      ]
     },
     "metadata": {
      "needs_background": "light"
     },
     "output_type": "display_data"
    }
   ],
   "source": [
    "run_model(X=X,y=y,activation_fun='relu',r=0.05,alpha=0,max_iters=1000000, do_shuffle=True)"
   ]
  },
  {
   "cell_type": "code",
   "execution_count": null,
   "id": "b8ddcd5c",
   "metadata": {},
   "outputs": [],
   "source": []
  }
 ],
 "metadata": {
  "kernelspec": {
   "display_name": "Python 3 (ipykernel)",
   "language": "python",
   "name": "python3"
  },
  "language_info": {
   "codemirror_mode": {
    "name": "ipython",
    "version": 3
   },
   "file_extension": ".py",
   "mimetype": "text/x-python",
   "name": "python",
   "nbconvert_exporter": "python",
   "pygments_lexer": "ipython3",
   "version": "3.8.5"
  }
 },
 "nbformat": 4,
 "nbformat_minor": 5
}
