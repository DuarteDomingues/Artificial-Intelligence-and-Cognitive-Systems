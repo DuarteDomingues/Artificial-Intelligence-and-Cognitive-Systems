{
 "cells": [
  {
   "cell_type": "code",
   "execution_count": 31,
   "id": "1f768fd9",
   "metadata": {},
   "outputs": [],
   "source": [
    "from sklearn.neural_network import MLPClassifier\n",
    "from sklearn.metrics import plot_confusion_matrix\n",
    "from sklearn.metrics import classification_report\n",
    "from sklearn.model_selection import train_test_split\n",
    "import numpy as np\n",
    "import matplotlib.pyplot as plt"
   ]
  },
  {
   "cell_type": "markdown",
   "id": "764f69fd",
   "metadata": {},
   "source": [
    "## Dados"
   ]
  },
  {
   "cell_type": "code",
   "execution_count": 32,
   "id": "f6ae5100",
   "metadata": {},
   "outputs": [],
   "source": [
    "X = np.array([\n",
    "        np.array([\n",
    "        1, 1, 1, 1,\n",
    "        1, 0, 0, 0,\n",
    "        1, 0, 0, 1,\n",
    "        1, 1, 1, 1\n",
    "        ]),\n",
    "        np.array([\n",
    "        1, 1, 1, 1,\n",
    "        1, 0, 0, 1,\n",
    "        1, 0, 0, 1,\n",
    "        1, 1, 0, 1\n",
    "        ]),\n",
    "        np.array([\n",
    "        1, 1, 1, 1,\n",
    "        1, 0, 0, 1,\n",
    "        1, 0, 0, 1,\n",
    "        1, 0, 1, 1\n",
    "        ]),\n",
    "      np.array([\n",
    "        1, 0, 1, 1,\n",
    "        1, 0, 0, 1,\n",
    "        1, 0, 0, 1,\n",
    "        1, 0, 1, 1\n",
    "        ]),\n",
    "    \n",
    "    np.array([\n",
    "        1, 0, 1, 1,\n",
    "        1, 0, 0, 1,\n",
    "        1, 0, 1, 1,\n",
    "        1, 0, 1, 1\n",
    "        ]),\n",
    "     np.array([\n",
    "        1, 1, 0, 1,\n",
    "        1, 0, 0, 1,\n",
    "        1, 0, 0, 1,\n",
    "        1, 0, 1, 1\n",
    "        ]),\n",
    "\n",
    "        np.array([\n",
    "        1, 0, 0, 1,\n",
    "        0, 1, 1, 0,\n",
    "        0, 1, 1, 0,\n",
    "        1, 0, 0, 1\n",
    "        ]),\n",
    "        np.array([\n",
    "        0, 0, 0, 1,\n",
    "        0, 1, 1, 0,\n",
    "        0, 1, 1, 0,\n",
    "        1, 0, 0, 1\n",
    "        ]),\n",
    "        np.array([\n",
    "        1, 0, 0, 1,\n",
    "        0, 1, 1, 0,\n",
    "        0, 1, 0, 0,\n",
    "        1, 0, 0, 1\n",
    "        ]),\n",
    "      np.array([\n",
    "        0, 0, 0, 1,\n",
    "        0, 1, 1, 0,\n",
    "        0, 1, 0, 0,\n",
    "        1, 0, 0, 1\n",
    "        ]),\n",
    "       np.array([\n",
    "        1, 0, 0, 1,\n",
    "        0, 1, 1, 0,\n",
    "        0, 1, 0, 0,\n",
    "        0, 0, 0, 1\n",
    "        ]),\n",
    "       np.array([\n",
    "        1, 0, 0, 1,\n",
    "        0, 0, 1, 0,\n",
    "        0, 1, 0, 0,\n",
    "        1, 0, 0, 1\n",
    "        ])\n",
    "    ])\n",
    "\n",
    "y = np.array([\n",
    "    np.array([1, 0]),\n",
    "    np.array([1, 0]),\n",
    "    np.array([1, 0]),\n",
    "    np.array([1, 0]),\n",
    "    np.array([1, 0]),\n",
    "    np.array([1, 0]),\n",
    "    np.array([0, 1]),\n",
    "    np.array([0, 1]),\n",
    "    np.array([0, 1]),\n",
    "    np.array([0, 1]),\n",
    "    np.array([0, 1]),\n",
    "    np.array([0, 1])\n",
    "    ])\n",
    "\n",
    "\n",
    "\n"
   ]
  },
  {
   "cell_type": "code",
   "execution_count": 33,
   "id": "79789359",
   "metadata": {},
   "outputs": [
    {
     "name": "stdout",
     "output_type": "stream",
     "text": [
      "X:\n",
      "[[1 1 1 1 1 0 0 0 1 0 0 1 1 1 1 1]\n",
      " [1 1 1 1 1 0 0 1 1 0 0 1 1 1 0 1]\n",
      " [1 1 1 1 1 0 0 1 1 0 0 1 1 0 1 1]\n",
      " [1 0 1 1 1 0 0 1 1 0 0 1 1 0 1 1]\n",
      " [1 0 1 1 1 0 0 1 1 0 1 1 1 0 1 1]\n",
      " [1 1 0 1 1 0 0 1 1 0 0 1 1 0 1 1]\n",
      " [1 0 0 1 0 1 1 0 0 1 1 0 1 0 0 1]\n",
      " [0 0 0 1 0 1 1 0 0 1 1 0 1 0 0 1]\n",
      " [1 0 0 1 0 1 1 0 0 1 0 0 1 0 0 1]\n",
      " [0 0 0 1 0 1 1 0 0 1 0 0 1 0 0 1]\n",
      " [1 0 0 1 0 1 1 0 0 1 0 0 0 0 0 1]\n",
      " [1 0 0 1 0 0 1 0 0 1 0 0 1 0 0 1]]\n",
      "\n",
      "\n",
      "Y:\n",
      "[[1 0]\n",
      " [1 0]\n",
      " [1 0]\n",
      " [1 0]\n",
      " [1 0]\n",
      " [1 0]\n",
      " [0 1]\n",
      " [0 1]\n",
      " [0 1]\n",
      " [0 1]\n",
      " [0 1]\n",
      " [0 1]]\n"
     ]
    }
   ],
   "source": [
    "print(\"X:\")\n",
    "print(X)\n",
    "print(\"\\n\")\n",
    "print(\"Y:\")\n",
    "print(y)"
   ]
  },
  {
   "cell_type": "markdown",
   "id": "729be8d4",
   "metadata": {},
   "source": [
    "## Dividir os dados em treino e teste"
   ]
  },
  {
   "cell_type": "code",
   "execution_count": 34,
   "id": "93f5c8b4",
   "metadata": {},
   "outputs": [],
   "source": [
    "X_train, X_test, y_train, y_test = train_test_split(\n",
    "X, y, test_size=0.25, random_state=42)"
   ]
  },
  {
   "cell_type": "code",
   "execution_count": 35,
   "id": "83e5506b",
   "metadata": {},
   "outputs": [
    {
     "name": "stdout",
     "output_type": "stream",
     "text": [
      "[[1 0 0 1 0 1 1 0 0 1 0 0 1 0 0 1]\n",
      " [1 1 0 1 1 0 0 1 1 0 0 1 1 0 1 1]\n",
      " [1 1 1 1 1 0 0 1 1 0 0 1 1 0 1 1]\n",
      " [1 1 1 1 1 0 0 1 1 0 0 1 1 1 0 1]\n",
      " [1 0 0 1 0 0 1 0 0 1 0 0 1 0 0 1]\n",
      " [1 0 1 1 1 0 0 1 1 0 1 1 1 0 1 1]\n",
      " [0 0 0 1 0 1 1 0 0 1 1 0 1 0 0 1]\n",
      " [1 0 1 1 1 0 0 1 1 0 0 1 1 0 1 1]\n",
      " [1 0 0 1 0 1 1 0 0 1 1 0 1 0 0 1]]\n"
     ]
    }
   ],
   "source": [
    "print(X_train)"
   ]
  },
  {
   "cell_type": "code",
   "execution_count": 36,
   "id": "fa01af1b",
   "metadata": {},
   "outputs": [
    {
     "name": "stdout",
     "output_type": "stream",
     "text": [
      "[[1 0 0 1 0 1 1 0 0 1 0 0 0 0 0 1]\n",
      " [0 0 0 1 0 1 1 0 0 1 0 0 1 0 0 1]\n",
      " [1 1 1 1 1 0 0 0 1 0 0 1 1 1 1 1]]\n"
     ]
    }
   ],
   "source": [
    "print(X_test)"
   ]
  },
  {
   "cell_type": "markdown",
   "id": "3c67cb76",
   "metadata": {},
   "source": [
    "### Funcoes auxiliares"
   ]
  },
  {
   "cell_type": "code",
   "execution_count": 8,
   "id": "073cc10b",
   "metadata": {},
   "outputs": [],
   "source": [
    "#show loss curve of a model\n",
    "def show_loss_curve(model):\n",
    "    \n",
    "    loss_curve =  model.loss_curve_\n",
    "    plt.plot(loss_curve)\n",
    "    plt.axis(True)\n",
    "    plt.show()"
   ]
  },
  {
   "cell_type": "code",
   "execution_count": 15,
   "id": "e9090bec",
   "metadata": {},
   "outputs": [],
   "source": [
    "def get_score(model,X,y):\n",
    "    y_pred = model.predict(X)\n",
    "    class_= classification_report(y, y_pred)\n",
    "    print(\"Classification Report:\")\n",
    "    print(\"\\n\")\n",
    "    print(class_)"
   ]
  },
  {
   "cell_type": "markdown",
   "id": "0c513131",
   "metadata": {},
   "source": [
    "## Definir o modelo"
   ]
  },
  {
   "cell_type": "code",
   "execution_count": 20,
   "id": "6ea1a807",
   "metadata": {},
   "outputs": [],
   "source": [
    "def run_model(X,y,activation_fun,r,alpha,max_iters, do_shuffle):\n",
    "    \n",
    "    best_loss = 1\n",
    "    while (best_loss) > 0.1:\n",
    "        model = MLPClassifier(  solver='sgd',\n",
    "                                activation=activation_fun,\n",
    "                                learning_rate_init=r,\n",
    "                                momentum=alpha,\n",
    "                                max_iter=max_iters,\n",
    "                                shuffle=do_shuffle,\n",
    "                                tol=1e-6,\n",
    "                                hidden_layer_sizes=(2,),\n",
    "                                verbose=False)\n",
    "        \n",
    "        model.fit(X, y)\n",
    "        best_loss = model.best_loss_\n",
    "    \n",
    "    return model\n",
    "        "
   ]
  },
  {
   "cell_type": "code",
   "execution_count": 80,
   "id": "268d0f79",
   "metadata": {},
   "outputs": [],
   "source": [
    "model = run_model(X=X_train,y=y_train,activation_fun='relu',r=0.05,alpha=1.,max_iters=100000, do_shuffle=False)"
   ]
  },
  {
   "cell_type": "code",
   "execution_count": 81,
   "id": "04dd1c9d",
   "metadata": {},
   "outputs": [
    {
     "name": "stdout",
     "output_type": "stream",
     "text": [
      "Classification Report:\n",
      "\n",
      "\n",
      "              precision    recall  f1-score   support\n",
      "\n",
      "           0       1.00      1.00      1.00         1\n",
      "           1       1.00      1.00      1.00         2\n",
      "\n",
      "   micro avg       1.00      1.00      1.00         3\n",
      "   macro avg       1.00      1.00      1.00         3\n",
      "weighted avg       1.00      1.00      1.00         3\n",
      " samples avg       1.00      1.00      1.00         3\n",
      "\n",
      "83\n"
     ]
    }
   ],
   "source": [
    "#show_loss_curve(model)\n",
    "get_score(model,X_test,y_test)\n",
    "n_iter = model.n_iter_\n",
    "print(n_iter)\n"
   ]
  },
  {
   "cell_type": "code",
   "execution_count": null,
   "id": "472f20a7",
   "metadata": {},
   "outputs": [],
   "source": []
  }
 ],
 "metadata": {
  "kernelspec": {
   "display_name": "Python 3 (ipykernel)",
   "language": "python",
   "name": "python3"
  },
  "language_info": {
   "codemirror_mode": {
    "name": "ipython",
    "version": 3
   },
   "file_extension": ".py",
   "mimetype": "text/x-python",
   "name": "python",
   "nbconvert_exporter": "python",
   "pygments_lexer": "ipython3",
   "version": "3.8.5"
  }
 },
 "nbformat": 4,
 "nbformat_minor": 5
}
